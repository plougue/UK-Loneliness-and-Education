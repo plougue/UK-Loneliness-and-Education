{
 "cells": [
  {
   "cell_type": "markdown",
   "metadata": {},
   "source": [
    "# Step 1 : merge desirability_by_school with postcodes_by_urn\n",
    "The point of this step is to have desirability by postcodes. \n",
    "There are no postcodes in the data used in the process of creating desirability. However, there is a designated postcode for each school, each UNR is specific to the school and can be associated to a postcode.\n",
    "The point of this step is to use a table that associates each unr to a postcode to have a postcode entry in the desirability"
   ]
  },
  {
   "cell_type": "code",
   "execution_count": 2,
   "metadata": {},
   "outputs": [],
   "source": [
    "import numpy as np\n",
    "import pandas as pd"
   ]
  },
  {
   "cell_type": "code",
   "execution_count": 3,
   "metadata": {},
   "outputs": [],
   "source": [
    "desirability_by_school = pd.read_csv('data/desirability_by_school.csv')\n",
    "postcodes_by_urn = pd.read_csv('data/urn_postcodes_2014.csv')"
   ]
  },
  {
   "cell_type": "code",
   "execution_count": 4,
   "metadata": {},
   "outputs": [
    {
     "name": "stdout",
     "output_type": "stream",
     "text": [
      "Dropped 47 our of 9748 unrecorded UNR in the process\n"
     ]
    }
   ],
   "source": [
    "old_length = len(desirability_by_school)\n",
    "old_urn = desirability_by_school['URN']\n",
    "\n",
    "\n",
    "desirability_by_school = desirability_by_school.merge(postcodes_by_urn, on='URN', copy=False)\n",
    "\n",
    "\n",
    "new_length = len(desirability_by_school)\n",
    "new_urn = desirability_by_school['URN']\n",
    "\n",
    "print(\"Dropped \" + str(old_length - new_length) + \" our of \" + str(old_length) + \" unrecorded UNR in the process\")\n",
    "# uncomment to print the difference\n",
    "# pd.concat([old_urn,new_urn]).drop_duplicates(keep=False)\n"
   ]
  },
  {
   "cell_type": "markdown",
   "metadata": {},
   "source": [
    "# Step 2 : merge desirability_by_school with postcodes\n",
    "The point of this step is to add the corresponding MSOA to desirability_by_school by computing it from the postcodes using the corresponding \"postcode to MSOA\" table.\n",
    "\n",
    "\n",
    "This has to be done by using chunk, right outer joins and concatenation.\n",
    "This is because \"postcodes.csv\" is very large (several Gb). It can't be stored in memory. It won't be a problem in the final result because very few postcode actually appear in our dataset."
   ]
  },
  {
   "cell_type": "code",
   "execution_count": 10,
   "metadata": {},
   "outputs": [
    {
     "name": "stdout",
     "output_type": "stream",
     "text": [
      "Dropped 9636 out of 9701 unrecorded postcodes in the process\n"
     ]
    }
   ],
   "source": [
    "final_desirability = pd.DataFrame()              \n",
    "chunksize = 10 ** 6\n",
    "for chunk in pd.read_csv('data/postcodes.csv', chunksize=chunksize,low_memory=False):\n",
    "    final_desirability = pd.concat([final_desirability, desirability_by_school.merge(chunk, how='inner', on='Postcode', copy=False)])"
   ]
  },
  {
   "cell_type": "markdown",
   "metadata": {},
   "source": [
    "test the integrity of the final result"
   ]
  },
  {
   "cell_type": "code",
   "execution_count": 22,
   "metadata": {},
   "outputs": [
    {
     "name": "stdout",
     "output_type": "stream",
     "text": [
      "Dropped 0 out of 9701 unrecorded postcodes in the process\n",
      "Number of NA desirability : 0 out of 9701\n"
     ]
    }
   ],
   "source": [
    "msoa_desirability = final_desirability[['desirability.metric', 'MSOA Code']]\n",
    "print(\"Dropped \" + str(new_length - msoa_desirability.shape[0]) + \" out of \" + str(new_length) + \" unrecorded postcodes in the process\")\n",
    "number_of_na_desirability = msoa_desirability['desirability.metric'].isna().sum()\n",
    "print(\"Number of NA desirability : \" + str(number_of_na_desirability) + \" out of \" + str(msoa_desirability.shape[0]) )"
   ]
  },
  {
   "cell_type": "markdown",
   "metadata": {},
   "source": [
    "store intermediate values in a file in case something goes wrong (long compilation time)"
   ]
  },
  {
   "cell_type": "markdown",
   "metadata": {},
   "source": [
    "# Step 3 : aggregate MSOA desirability\n",
    "Take the maximum within each area"
   ]
  },
  {
   "cell_type": "code",
   "execution_count": 32,
   "metadata": {},
   "outputs": [
    {
     "name": "stdout",
     "output_type": "stream",
     "text": [
      "4896\n"
     ]
    }
   ],
   "source": [
    "print(len(msoa_desirability['MSOA Code'].unique()))\n",
    "msoa_desirability = msoa_desirability.groupby('MSOA Code').max()"
   ]
  },
  {
   "cell_type": "markdown",
   "metadata": {},
   "source": [
    "# Final step : store results in a file"
   ]
  },
  {
   "cell_type": "code",
   "execution_count": 35,
   "metadata": {},
   "outputs": [],
   "source": [
    "msoa_desirability.to_csv('data/desirability_by_msoa.csv', index=True)"
   ]
  },
  {
   "cell_type": "markdown",
   "metadata": {},
   "source": [
    "**TO DO :** check on a map how many msoa have a corresponding desirability score. They should almost all have one\n",
    "if not, try to understand what it means (does it mean that there are no schools ? if not knn, if so, low desirability score)"
   ]
  }
 ],
 "metadata": {
  "kernelspec": {
   "display_name": "Python 3",
   "language": "python",
   "name": "python3"
  },
  "language_info": {
   "codemirror_mode": {
    "name": "ipython",
    "version": 3
   },
   "file_extension": ".py",
   "mimetype": "text/x-python",
   "name": "python",
   "nbconvert_exporter": "python",
   "pygments_lexer": "ipython3",
   "version": "3.7.0"
  }
 },
 "nbformat": 4,
 "nbformat_minor": 2
}
